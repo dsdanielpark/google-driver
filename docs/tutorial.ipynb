{
 "cells": [
  {
   "cell_type": "code",
   "execution_count": 4,
   "metadata": {},
   "outputs": [],
   "source": [
    "from googledriver import download\n",
    "\n",
    "URL = 'https://drive.google.com/file/d/xxxxxxxxx/view?usp=share_link'\n",
    "download(URL, './model/tf_gpt2_model')"
   ]
  },
  {
   "cell_type": "code",
   "execution_count": null,
   "metadata": {},
   "outputs": [],
   "source": [
    "from googledriver import download\n",
    "\n",
    "URL = 'https://drive.google.com/file/d/xxxxxxxxx/view?usp=share_link'\n",
    "cached_path = download(URL, None, 'tf_model')"
   ]
  },
  {
   "cell_type": "code",
   "execution_count": null,
   "metadata": {},
   "outputs": [],
   "source": [
    "from googledriver import download_folder\n",
    "\n",
    "URL = 'https://drive.google.com/file/d/xxxxxxxxx/view?usp=share_link'\n",
    "\n",
    "download_folder(URL)"
   ]
  },
  {
   "cell_type": "code",
   "execution_count": null,
   "metadata": {},
   "outputs": [],
   "source": [
    "from googledriver import download_folder\n",
    "\n",
    "URL = 'https://drive.google.com/file/d/xxxxxxxxx/view?usp=share_link'\n",
    "save_folder = './any/path/to/save/'\n",
    "\n",
    "download_folder(URL, save_folder)"
   ]
  },
  {
   "cell_type": "code",
   "execution_count": null,
   "metadata": {},
   "outputs": [],
   "source": [
    "from googledriver import download_folder\n",
    "\n",
    "URL = 'https://drive.google.com/file/d/xxxxxxxxx/view?usp=share_link'\n",
    "\n",
    "download_folder(URL, cached=True)"
   ]
  }
 ],
 "metadata": {
  "kernelspec": {
   "display_name": "miccai",
   "language": "python",
   "name": "miccai"
  },
  "language_info": {
   "codemirror_mode": {
    "name": "ipython",
    "version": 3
   },
   "file_extension": ".py",
   "mimetype": "text/x-python",
   "name": "python",
   "nbconvert_exporter": "python",
   "pygments_lexer": "ipython3",
   "version": "3.8.5"
  },
  "orig_nbformat": 4
 },
 "nbformat": 4,
 "nbformat_minor": 2
}
